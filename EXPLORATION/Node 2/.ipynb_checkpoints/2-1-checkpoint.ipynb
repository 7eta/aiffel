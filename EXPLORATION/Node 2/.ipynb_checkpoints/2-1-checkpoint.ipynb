{
 "cells": [
  {
   "cell_type": "markdown",
   "id": "2a17887b",
   "metadata": {},
   "source": [
    "# 1. 데이터 가져오기\n",
    "\n",
    "* sklearn.datasets의 load_diabetes에서 데이터를 가져와주세요.\n",
    "* diabetes의 data를 df_X에, target을 df_y에 저장해주세요."
   ]
  },
  {
   "cell_type": "code",
   "execution_count": 13,
   "id": "08c1933d",
   "metadata": {},
   "outputs": [
    {
     "data": {
      "text/html": [
       "<div>\n",
       "<style scoped>\n",
       "    .dataframe tbody tr th:only-of-type {\n",
       "        vertical-align: middle;\n",
       "    }\n",
       "\n",
       "    .dataframe tbody tr th {\n",
       "        vertical-align: top;\n",
       "    }\n",
       "\n",
       "    .dataframe thead th {\n",
       "        text-align: right;\n",
       "    }\n",
       "</style>\n",
       "<table border=\"1\" class=\"dataframe\">\n",
       "  <thead>\n",
       "    <tr style=\"text-align: right;\">\n",
       "      <th></th>\n",
       "      <th>age</th>\n",
       "      <th>sex</th>\n",
       "      <th>bmi</th>\n",
       "      <th>bp</th>\n",
       "      <th>s1</th>\n",
       "      <th>s2</th>\n",
       "      <th>s3</th>\n",
       "      <th>s4</th>\n",
       "      <th>s5</th>\n",
       "      <th>s6</th>\n",
       "    </tr>\n",
       "  </thead>\n",
       "  <tbody>\n",
       "    <tr>\n",
       "      <th>0</th>\n",
       "      <td>0.038076</td>\n",
       "      <td>0.050680</td>\n",
       "      <td>0.061696</td>\n",
       "      <td>0.021872</td>\n",
       "      <td>-0.044223</td>\n",
       "      <td>-0.034821</td>\n",
       "      <td>-0.043401</td>\n",
       "      <td>-0.002592</td>\n",
       "      <td>0.019908</td>\n",
       "      <td>-0.017646</td>\n",
       "    </tr>\n",
       "    <tr>\n",
       "      <th>1</th>\n",
       "      <td>-0.001882</td>\n",
       "      <td>-0.044642</td>\n",
       "      <td>-0.051474</td>\n",
       "      <td>-0.026328</td>\n",
       "      <td>-0.008449</td>\n",
       "      <td>-0.019163</td>\n",
       "      <td>0.074412</td>\n",
       "      <td>-0.039493</td>\n",
       "      <td>-0.068330</td>\n",
       "      <td>-0.092204</td>\n",
       "    </tr>\n",
       "    <tr>\n",
       "      <th>2</th>\n",
       "      <td>0.085299</td>\n",
       "      <td>0.050680</td>\n",
       "      <td>0.044451</td>\n",
       "      <td>-0.005671</td>\n",
       "      <td>-0.045599</td>\n",
       "      <td>-0.034194</td>\n",
       "      <td>-0.032356</td>\n",
       "      <td>-0.002592</td>\n",
       "      <td>0.002864</td>\n",
       "      <td>-0.025930</td>\n",
       "    </tr>\n",
       "    <tr>\n",
       "      <th>3</th>\n",
       "      <td>-0.089063</td>\n",
       "      <td>-0.044642</td>\n",
       "      <td>-0.011595</td>\n",
       "      <td>-0.036656</td>\n",
       "      <td>0.012191</td>\n",
       "      <td>0.024991</td>\n",
       "      <td>-0.036038</td>\n",
       "      <td>0.034309</td>\n",
       "      <td>0.022692</td>\n",
       "      <td>-0.009362</td>\n",
       "    </tr>\n",
       "    <tr>\n",
       "      <th>4</th>\n",
       "      <td>0.005383</td>\n",
       "      <td>-0.044642</td>\n",
       "      <td>-0.036385</td>\n",
       "      <td>0.021872</td>\n",
       "      <td>0.003935</td>\n",
       "      <td>0.015596</td>\n",
       "      <td>0.008142</td>\n",
       "      <td>-0.002592</td>\n",
       "      <td>-0.031991</td>\n",
       "      <td>-0.046641</td>\n",
       "    </tr>\n",
       "  </tbody>\n",
       "</table>\n",
       "</div>"
      ],
      "text/plain": [
       "        age       sex       bmi        bp        s1        s2        s3  \\\n",
       "0  0.038076  0.050680  0.061696  0.021872 -0.044223 -0.034821 -0.043401   \n",
       "1 -0.001882 -0.044642 -0.051474 -0.026328 -0.008449 -0.019163  0.074412   \n",
       "2  0.085299  0.050680  0.044451 -0.005671 -0.045599 -0.034194 -0.032356   \n",
       "3 -0.089063 -0.044642 -0.011595 -0.036656  0.012191  0.024991 -0.036038   \n",
       "4  0.005383 -0.044642 -0.036385  0.021872  0.003935  0.015596  0.008142   \n",
       "\n",
       "         s4        s5        s6  \n",
       "0 -0.002592  0.019908 -0.017646  \n",
       "1 -0.039493 -0.068330 -0.092204  \n",
       "2 -0.002592  0.002864 -0.025930  \n",
       "3  0.034309  0.022692 -0.009362  \n",
       "4 -0.002592 -0.031991 -0.046641  "
      ]
     },
     "execution_count": 13,
     "metadata": {},
     "output_type": "execute_result"
    }
   ],
   "source": [
    "import pandas as pd\n",
    "from sklearn.datasets import load_diabetes\n",
    "\n",
    "diabetes = load_diabetes()\n",
    "df_x = pd.DataFrame(diabetes.data, columns=diabetes.feature_names)\n",
    "df_y = diabetes.target\n",
    "df_x.head()"
   ]
  },
  {
   "cell_type": "markdown",
   "id": "237ef42d",
   "metadata": {},
   "source": [
    "# 2. 모델에 입력할 데이터 X 준비하기\n",
    "\n",
    "* `df_X`에 있는 값들을 numpy array로 변환해서 저장해주세요."
   ]
  },
  {
   "cell_type": "code",
   "execution_count": 14,
   "id": "7e52ab9f",
   "metadata": {},
   "outputs": [
    {
     "data": {
      "text/plain": [
       "(442, 10)"
      ]
     },
     "execution_count": 14,
     "metadata": {},
     "output_type": "execute_result"
    }
   ],
   "source": [
    "import numpy as np\n",
    "\n",
    "df_x = np.array(df_x)\n",
    "df_x.shape"
   ]
  },
  {
   "cell_type": "markdown",
   "id": "ea4a2a82",
   "metadata": {},
   "source": [
    "# 3. 모델에 예측할 데이터 y 준비하기\n",
    "\n",
    "* `df_y`에 있는 값들을 numpy array로 변환해서 저장해주세요."
   ]
  },
  {
   "cell_type": "code",
   "execution_count": 15,
   "id": "4524c2a1",
   "metadata": {},
   "outputs": [
    {
     "data": {
      "text/plain": [
       "(442,)"
      ]
     },
     "execution_count": 15,
     "metadata": {},
     "output_type": "execute_result"
    }
   ],
   "source": [
    "df_y = np.array(df_y)\n",
    "df_y.shape"
   ]
  },
  {
   "cell_type": "markdown",
   "id": "fce6a632",
   "metadata": {},
   "source": [
    "# 4. train 데이터와 test 데이터로 분리하기\n",
    "\n",
    "* `X`와 `y` 데이터를 각각 train 데이터와 test 데이터로 분리해주세요."
   ]
  },
  {
   "cell_type": "code",
   "execution_count": 16,
   "id": "201689b3",
   "metadata": {},
   "outputs": [
    {
     "name": "stdout",
     "output_type": "stream",
     "text": [
      "(331, 10) (331,)\n",
      "(111, 10) (111,)\n"
     ]
    }
   ],
   "source": [
    "from sklearn.model_selection import train_test_split\n",
    "\n",
    "X_train, X_test, y_train, y_test = train_test_split(df_x, df_y)\n",
    "\n",
    "print(X_train.shape, y_train.shape)\n",
    "print(X_test.shape, y_test.shape)"
   ]
  },
  {
   "cell_type": "markdown",
   "id": "2cfe8a35",
   "metadata": {},
   "source": [
    "# 5. 모델 준비하기\n",
    "\n",
    "* 입력 데이터 개수에 맞는 가중치 `W`와 `b`를 준비해주세요.\n",
    "* 모델 함수를 구현해주세요."
   ]
  },
  {
   "cell_type": "code",
   "execution_count": 39,
   "id": "13770a9c",
   "metadata": {},
   "outputs": [
    {
     "data": {
      "text/plain": [
       "array([0.85857009, 0.80158569, 0.73765868, 0.77776282, 0.95290047,\n",
       "       0.92041917, 0.2048517 , 0.62731438, 0.15886924, 0.73667078])"
      ]
     },
     "execution_count": 39,
     "metadata": {},
     "output_type": "execute_result"
    }
   ],
   "source": [
    "W = np.random.rand(10) \n",
    "W"
   ]
  },
  {
   "cell_type": "code",
   "execution_count": 40,
   "id": "cf1932c8",
   "metadata": {},
   "outputs": [
    {
     "data": {
      "text/plain": [
       "0.1625008320357153"
      ]
     },
     "execution_count": 40,
     "metadata": {},
     "output_type": "execute_result"
    }
   ],
   "source": [
    "b = np.random.rand()\n",
    "b"
   ]
  },
  {
   "cell_type": "code",
   "execution_count": 20,
   "id": "d8ce1d3e",
   "metadata": {},
   "outputs": [],
   "source": [
    "def model(x, W, b):\n",
    "    predictions = 0\n",
    "    for i in range(10):\n",
    "        predictions += x[:, i] * W[i]\n",
    "    predictions += b\n",
    "    return predictions"
   ]
  },
  {
   "cell_type": "markdown",
   "id": "4bb69899",
   "metadata": {},
   "source": [
    "# 6. 손실함수 loss 정의하기\n",
    "\n",
    "* 손실함수를 MSE 함수로 정의해주세요."
   ]
  },
  {
   "cell_type": "code",
   "execution_count": 21,
   "id": "d71b4285",
   "metadata": {},
   "outputs": [],
   "source": [
    "def MSE(a, b):\n",
    "    return ((a - b) ** 2).mean() "
   ]
  },
  {
   "cell_type": "code",
   "execution_count": 22,
   "id": "7bdc8ae2",
   "metadata": {},
   "outputs": [],
   "source": [
    "def loss(x, W, b, y):\n",
    "    predictions = model(x, W, b)\n",
    "    L = MSE(predictions, y)\n",
    "    return L"
   ]
  },
  {
   "cell_type": "markdown",
   "id": "ecec72af",
   "metadata": {},
   "source": [
    "# 7. 기울기를 구하는 gradient 함수 구현하기\n",
    "\n",
    "* 기울기를 계산하는 `gradient` 함수를 구현해주세요."
   ]
  },
  {
   "cell_type": "code",
   "execution_count": 26,
   "id": "c39ab2b4",
   "metadata": {},
   "outputs": [],
   "source": [
    "def gradient(x, W, b, y):\n",
    "    \n",
    "    y_pred = model(x, W, b)\n",
    "    \n",
    "    dw = 1/len(W) * 2 * x.T.dot(y_pred - y)\n",
    "    db = 2 * (y_pred - y).mean()\n",
    "    \n",
    "    return dw, db"
   ]
  },
  {
   "cell_type": "code",
   "execution_count": 28,
   "id": "5a0a74e4",
   "metadata": {},
   "outputs": [
    {
     "name": "stdout",
     "output_type": "stream",
     "text": [
      "dw : [ -60.53951287  -13.69151288 -189.61440648 -142.63656263  -68.13454136\n",
      "  -55.85867678  127.64735569 -138.9241867  -182.82257047 -123.48022749]\n",
      "db: -303.63679248132945\n"
     ]
    }
   ],
   "source": [
    "dw, db = gradient(df_x, W, b, df_y)\n",
    "print(f'dw : {dw}')\n",
    "print(f'db: {db}')"
   ]
  },
  {
   "cell_type": "markdown",
   "id": "1e55cd41",
   "metadata": {},
   "source": [
    "# 8. 하이퍼 파라미터인 학습률 설정하기\n",
    "\n",
    "* 학습률, learning rate 를 설정해주세요\n",
    "* 만약 학습이 잘 되지 않는다면 learning rate 값을 한번 여러 가지로 설정하며 실험해 보세요."
   ]
  },
  {
   "cell_type": "code",
   "execution_count": 30,
   "id": "0d39adbd",
   "metadata": {},
   "outputs": [],
   "source": [
    "LEARNING_RATE = 0.001"
   ]
  },
  {
   "cell_type": "markdown",
   "id": "5ec680e4",
   "metadata": {},
   "source": [
    "# 9. 모델 학습하기\n",
    "\n",
    "* 정의된 손실함수와 기울기 함수로 모델을 학습해주세요.\n",
    "* loss값이 충분히 떨어질 때까지 학습을 진행해주세요.\n",
    "* 입력하는 데이터인 X에 들어가는 특성 컬럼들을 몇 개 빼도 괜찮습니다. 다양한 데이터로 실험해 보세요."
   ]
  },
  {
   "cell_type": "code",
   "execution_count": 41,
   "id": "22ad4df2",
   "metadata": {},
   "outputs": [
    {
     "name": "stdout",
     "output_type": "stream",
     "text": [
      "Iteration 1000 : Loss 4705.6610\n",
      "Iteration 2000 : Loss 3695.9163\n",
      "Iteration 3000 : Loss 3424.3490\n",
      "Iteration 4000 : Loss 3279.3800\n",
      "Iteration 5000 : Loss 3185.4694\n",
      "Iteration 6000 : Loss 3118.5375\n",
      "Iteration 7000 : Loss 3068.6751\n",
      "Iteration 8000 : Loss 3030.7897\n",
      "Iteration 9000 : Loss 3001.7253\n",
      "Iteration 10000 : Loss 2979.2969\n"
     ]
    }
   ],
   "source": [
    "losses = []\n",
    "\n",
    "for i in range(1, 10001):\n",
    "    dw, db = gradient(X_train, W, b, y_train)   \n",
    "    W -= LEARNING_RATE * dw         \n",
    "    b -= LEARNING_RATE * db         \n",
    "    L = loss(df_x, W, b, df_y)            \n",
    "    losses.append(L)                \n",
    "    if i % 1000 == 0:\n",
    "        print('Iteration %d : Loss %0.4f' % (i, L))"
   ]
  },
  {
   "cell_type": "code",
   "execution_count": 42,
   "id": "2e944b53",
   "metadata": {},
   "outputs": [
    {
     "data": {
      "image/png": "[encoded data removed]",
      "text/plain": [
       "<Figure size 432x288 with 1 Axes>"
      ]
     },
     "metadata": {
      "needs_background": "light"
     },
     "output_type": "display_data"
    }
   ],
   "source": [
    "import matplotlib.pyplot as plt\n",
    "\n",
    "plt.plot(losses)\n",
    "plt.show()"
   ]
  },
  {
   "cell_type": "markdown",
   "id": "e8b61218",
   "metadata": {},
   "source": [
    "# 10. test 데이터에 대한 성능 확인하기\n",
    "\n",
    "* test 데이터에 대한 성능을 확인해주세요."
   ]
  },
  {
   "cell_type": "code",
   "execution_count": 43,
   "id": "af5b20cd",
   "metadata": {},
   "outputs": [
    {
     "data": {
      "text/plain": [
       "3284.065826936859"
      ]
     },
     "execution_count": 43,
     "metadata": {},
     "output_type": "execute_result"
    }
   ],
   "source": [
    "prediction = model(X_test, W, b)\n",
    "mse = loss(X_test, W, b, y_test)\n",
    "mse"
   ]
  },
  {
   "cell_type": "markdown",
   "id": "e221f4c6",
   "metadata": {},
   "source": [
    "# 11. 정답 데이터와 예측한 데이터 시각화하기\n",
    "\n",
    "* x축에는 X 데이터의 첫 번째 컬럼을, y축에는 정답인 target 데이터를 넣어서 모델이 예측한 데이터를 시각화해 주세요."
   ]
  },
  {
   "cell_type": "code",
   "execution_count": 44,
   "id": "02a5ffdf",
   "metadata": {},
   "outputs": [
    {
     "data": {
      "image/png": "[encoded data removed]",
      "text/plain": [
       "<Figure size 432x288 with 1 Axes>"
      ]
     },
     "metadata": {
      "needs_background": "light"
     },
     "output_type": "display_data"
    }
   ],
   "source": [
    "plt.scatter(X_test[:, 0], y_test)\n",
    "plt.scatter(X_test[:, 0], prediction)\n",
    "plt.show()"
   ]
  }
 ],
 "metadata": {
  "kernelspec": {
   "display_name": "Python 3 (ipykernel)",
   "language": "python",
   "name": "python3"
  },
  "language_info": {
   "codemirror_mode": {
    "name": "ipython",
    "version": 3
   },
   "file_extension": ".py",
   "mimetype": "text/x-python",
   "name": "python",
   "nbconvert_exporter": "python",
   "pygments_lexer": "ipython3",
   "version": "3.9.7"
  }
 },
 "nbformat": 4,
 "nbformat_minor": 5
}
